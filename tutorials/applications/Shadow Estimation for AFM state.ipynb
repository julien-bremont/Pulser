{
 "cells": [
  {
   "cell_type": "code",
   "execution_count": 1,
   "id": "d3861ea5",
   "metadata": {},
   "outputs": [
    {
     "name": "stdout",
     "output_type": "stream",
     "text": [
      "/Users/julienbremont/Documents/Pulserdev\n"
     ]
    }
   ],
   "source": [
    "# Add the root location of the repo to sys.path in order to import modules\n",
    "import os\n",
    "print(os.getcwd())\n",
    "\n",
    "# Change to Fork version of Pulser\n",
    "import sys\n",
    "sys.path.append('/Users/julienbremont/Documents/Pulserdev/Pulser')\n",
    "sys.path\n",
    "\n",
    "import numpy as np\n",
    "import matplotlib.pyplot as plt\n",
    "import qutip\n",
    "from qutip.measurement import measure_observable\n",
    "from qutip.metrics import tracedist\n",
    "import itertools\n",
    "\n",
    "from pulser import Pulse, Sequence, Register\n",
    "from pulser.simulation import Simulation, SimConfig\n",
    "from pulser.waveforms import RampWaveform, ConstantWaveform\n",
    "from pulser.devices import Chadoq2"
   ]
  },
  {
   "cell_type": "code",
   "execution_count": 2,
   "id": "f3d6530b",
   "metadata": {},
   "outputs": [
    {
     "data": {
      "image/png": "[encoded data removed]",
      "text/plain": [
       "<Figure size 346.652x346.652 with 1 Axes>"
      ]
     },
     "metadata": {
      "needs_background": "light"
     },
     "output_type": "display_data"
    },
    {
     "data": {
      "text/plain": [
       "True"
      ]
     },
     "execution_count": 2,
     "metadata": {},
     "output_type": "execute_result"
    }
   ],
   "source": [
    "# sim parameters\n",
    "Omega_0 = 0.\n",
    "Omega_max = 2.3 * 2*np.pi \n",
    "U = Omega_max / 2.3\n",
    "\n",
    "delta_0 = -6 * U\n",
    "delta_f = 2 * U\n",
    "\n",
    "t_rise = 2500\n",
    "t_fall = 5000\n",
    "t_sweep = (delta_f - delta_0)/(2 * np.pi * 10) * 1000\n",
    "\n",
    "R_interatomic = Chadoq2.rydberg_blockade_radius(U)\n",
    "N_side = 3\n",
    "\n",
    "reg = Register.square(N_side, R_interatomic, prefix='q')\n",
    "reg.draw()\n",
    "num_qubits = N_side ** 2\n",
    "zero_state = qutip.basis(2, 0).proj()\n",
    "one_state = qutip.basis(2, 1).proj()\n",
    "hadamard = 1/np.sqrt(2) * qutip.Qobj([[1., 1.], [1., -1.]])\n",
    "h_mul_phase = qutip.Qobj(np.array([[1., 1], [1.j, -1.j]])) / np.sqrt(2)\n",
    "unitary_ensemble = [hadamard, h_mul_phase, qutip.qeye(2)]\n",
    "unitary_ensemble[1].inv() == unitary_ensemble[1].dag()"
   ]
  },
  {
   "cell_type": "code",
   "execution_count": 3,
   "id": "ab749367",
   "metadata": {},
   "outputs": [],
   "source": [
    "def prep_pulse_seq(delta):\n",
    "    \"\"\"\n",
    "    Defines a pulse going through the rectangular path in (delta, Omega) space\n",
    "    and stopping at given delta detuning.\n",
    "    \"\"\"\n",
    "    rise = Pulse.ConstantDetuning(RampWaveform(t_rise, 0., Omega_max), delta_0, 0.)\n",
    "    sweep = Pulse.ConstantAmplitude(Omega_max, RampWaveform(t_sweep, delta_0, delta), 0.)\n",
    "    fall = Pulse.ConstantDetuning(RampWaveform(t_fall, Omega_max, 0.), delta, 0.)\n",
    "    seq = Sequence(reg, Chadoq2)\n",
    "    seq.declare_channel('ising', 'rydberg_global')\n",
    "\n",
    "    seq.add(rise, 'ising')\n",
    "    seq.add(sweep, 'ising')\n",
    "    seq.add(fall, 'ising')\n",
    "    return seq"
   ]
  },
  {
   "cell_type": "code",
   "execution_count": 4,
   "id": "e47452d9",
   "metadata": {},
   "outputs": [],
   "source": [
    "def build_unitary(indices):\n",
    "    return qutip.tensor([unitary_ensemble[i] for i in indices])"
   ]
  },
  {
   "cell_type": "code",
   "execution_count": 5,
   "id": "44ee0fd1",
   "metadata": {},
   "outputs": [],
   "source": [
    "def calculate_classical_shadow(rho, shadow_size):\n",
    "    \"\"\"\n",
    "    Given a circuit, creates a collection of snapshots consisting of a bit string\n",
    "    and the index of a unitary operation.\n",
    "\n",
    "    Returns:\n",
    "        Tuple of two numpy arrays. The first array contains measurement outcomes as bitstrings\n",
    "        while the second array contains the index for the sampled Pauli's (0,1,2=X,Y,Z).\n",
    "    \"\"\"\n",
    "    # sample random Pauli measurements uniformly, where 0,1,2 = X,Y,Z\n",
    "    # measuring Paulis is equivalent to rotating with Clifford circuits \n",
    "    # (Hadamard, Hadamard*PhaseZ, Id) : change of basis to eigenstates of Pauli's\n",
    "    unitary_ids = np.random.randint(0, 3, size=(shadow_size, num_qubits))\n",
    "    outcomes = []\n",
    "    for ns in range(shadow_size):\n",
    "        unitmat = qutip.tensor([unitary_ensemble[unitary_ids[ns, i]] for i in range(num_qubits)])\n",
    "        probs = np.real((unitmat.dag() * rho * unitmat).diag())\n",
    "        probs /= np.sum(probs)\n",
    "        x = np.nonzero(np.random.multinomial(1, probs))[0][0]\n",
    "        bitstring = np.binary_repr(x, num_qubits)\n",
    "        outcomes.append(bitstring)\n",
    "\n",
    "    # combine the computational basis outcomes and the sampled unitaries\n",
    "    return (outcomes, unitary_ids)"
   ]
  },
  {
   "cell_type": "code",
   "execution_count": 6,
   "id": "7218f3ee",
   "metadata": {},
   "outputs": [],
   "source": [
    "def snapshot_state(outcome_ns, unitary_ids_ns):\n",
    "    \"\"\"\n",
    "    Helper function for `shadow_state_reconstruction` that reconstructs\n",
    "     a state from a single snapshot in a shadow.\n",
    "\n",
    "    Implements Eq. (S44) from https://arxiv.org/pdf/2002.08953.pdf\n",
    "\n",
    "    Args:\n",
    "        outcome_ns: Bitstring at ns\n",
    "        unitary_ids_ns: Rotation applied at ns. \n",
    "\n",
    "    Returns:\n",
    "        Reconstructed snapshot.\n",
    "    \"\"\"\n",
    "    state_list = []\n",
    "    \n",
    "    for k in range(num_qubits):\n",
    "        op = unitary_ensemble[unitary_ids_ns[k]]\n",
    "        b = zero_state if outcome_ns[k] == '0' else one_state\n",
    "        state_list.append(3 * op * b * op.dag() - qutip.qeye(2))\n",
    "    \n",
    "    return qutip.tensor(state_list)"
   ]
  },
  {
   "cell_type": "code",
   "execution_count": 7,
   "id": "53f0971c",
   "metadata": {},
   "outputs": [],
   "source": [
    "def state_reconstruction(snaps):\n",
    "    return sum(snaps) / len(snaps)"
   ]
  },
  {
   "cell_type": "code",
   "execution_count": 8,
   "id": "23ea0a09",
   "metadata": {
    "scrolled": true
   },
   "outputs": [
    {
     "name": "stdout",
     "output_type": "stream",
     "text": [
      "Original density matrix :\n",
      "[[0.5+0.j 0.5+0.j 0. +0.j 0. +0.j]\n",
      " [0.5+0.j 0.5+0.j 0. +0.j 0. +0.j]\n",
      " [0. +0.j 0. +0.j 0. +0.j 0. +0.j]\n",
      " [0. +0.j 0. +0.j 0. +0.j 0. +0.j]]\n",
      "\n",
      " Shadow reconstruction :\n",
      "[[ 0.47+0.j    0.49+0.12j  0.01-0.j    0.03+0.04j]\n",
      " [ 0.49-0.12j  0.54+0.j    0.  -0.02j  0.02+0.02j]\n",
      " [ 0.01+0.j    0.  +0.02j  0.  +0.j    0.01-0.01j]\n",
      " [ 0.03-0.04j  0.02-0.02j  0.01+0.01j -0.01+0.j  ]]\n"
     ]
    }
   ],
   "source": [
    "num_qubits=2\n",
    "shadow_size = 1000\n",
    "rho_1 = (qutip.tensor([qutip.basis(2,0), qutip.basis(2,0)]) + qutip.tensor([qutip.basis(2,0), qutip.basis(2,1)])).proj().unit()\n",
    "rho = (qutip.basis(2,1) + qutip.basis(2,0)).unit().proj()\n",
    "print(\"Original density matrix :\")\n",
    "print(rho_1.full())\n",
    "outcomes, unitary_ids = calculate_classical_shadow(rho_1, shadow_size)\n",
    "snapshots = [snapshot_state(outcomes[ns], unitary_ids[ns]) for ns in range(shadow_size)]\n",
    "print(\"\\n Shadow reconstruction :\")\n",
    "print(np.around(state_reconstruction(snapshots).full(), 2))"
   ]
  },
  {
   "cell_type": "code",
   "execution_count": 9,
   "id": "cde2c3a1",
   "metadata": {},
   "outputs": [],
   "source": [
    "num_qubits = 2\n",
    "dist = np.zeros(5)\n",
    "for i, shadow_size in enumerate([100, 1000, 2000, 5000, 10000]):\n",
    "    outcomes, unitary_ids = calculate_classical_shadow(rho_1, shadow_size)\n",
    "    snapshots = [snapshot_state(outcomes[ns], unitary_ids[ns]) for ns in range(shadow_size)]\n",
    "    dist[i] = tracedist(state_reconstruction(snapshots), rho_1)"
   ]
  },
  {
   "cell_type": "code",
   "execution_count": 10,
   "id": "b34c811e",
   "metadata": {},
   "outputs": [
    {
     "data": {
      "image/png": "[encoded data removed]",
      "text/plain": [
       "<Figure size 432x288 with 1 Axes>"
      ]
     },
     "metadata": {
      "needs_background": "light"
     },
     "output_type": "display_data"
    }
   ],
   "source": [
    "plt.plot([100, 1000, 2000, 5000, 10000], dist)\n",
    "plt.xlabel(\"Shadow size\")\n",
    "plt.ylabel(r\"$||\\rho - \\hat{\\rho}||_1$\")\n",
    "plt.show()"
   ]
  },
  {
   "cell_type": "code",
   "execution_count": 12,
   "id": "cc3a5349",
   "metadata": {},
   "outputs": [],
   "source": [
    "def _median_of_means(obs, snap_list, K):\n",
    "    if K > len(snap_list):  # preventing the n_blocks > n_observations\n",
    "        K = int(np.ceil(len(snap_list) / 2))\n",
    "    # dividing seq in K random blocks\n",
    "    indic = np.array((list(range(K)) * int(len(snap_list) / K)))\n",
    "    np.random.shuffle(indic)\n",
    "    # computing and saving mean per block\n",
    "    means = []\n",
    "    for block in range(K):\n",
    "        #print(len(np.where(indic==block)[0]))\n",
    "        states = [snap_list[i] for i in np.where(indic==block)[0]]\n",
    "        exp = qutip.expect(obs, states)\n",
    "        means.append(np.mean(exp))\n",
    "        #print(means[-1])\n",
    "    return np.median(means)"
   ]
  },
  {
   "cell_type": "code",
   "execution_count": 13,
   "id": "f17762c3",
   "metadata": {},
   "outputs": [],
   "source": [
    "def compute_shadow_size(delta, epsilon, observables):\n",
    "    \"\"\"Helper function.\n",
    "    \n",
    "    Computes both the number of shadows needed as well as the size of blocks needed \n",
    "    for the median_of_means method in order to approximate the expectation value of M\n",
    "    (linear) observables with additive error epsilon and fail probability delta.\n",
    "    \n",
    "    Args:\n",
    "        delta (float): Fail probability.\n",
    "        epsilon (float): Additive error on expectation values.\n",
    "        observables (list[qutip.Qobj]): Observables the expectation value of which is to \n",
    "        be computed.\"\"\"\n",
    "    M = len(observables)\n",
    "    K = 2 * np.log(2 * M / delta)\n",
    "    shadow_norm = (\n",
    "        lambda op: np.linalg.norm(\n",
    "            op - np.trace(op) / 2 ** int(np.log2(op.shape[0])), ord=np.inf\n",
    "            ) ** 2\n",
    "        )\n",
    "    #N = 34 * max(shadow_norm(o) for o in observables) / epsilon ** 2\n",
    "    N = 10\n",
    "    return int(np.ceil(N * K)), int(K)"
   ]
  },
  {
   "cell_type": "code",
   "execution_count": 14,
   "id": "8f5e264a",
   "metadata": {},
   "outputs": [],
   "source": [
    "def sweep_stagger(sweep_steps):\n",
    "    observables = [qutip.tensor([qutip.sigmaz() if i == k else qutip.qeye(2) \n",
    "                                 for i in range(num_qubits)])\n",
    "                   for k in range(num_qubits)]\n",
    "    shadow_size, K = compute_shadow_size(0.1, 0.5, observables)\n",
    "    results = np.zeros(sweep_steps)\n",
    "    delta_space = np.linspace(-2*U, 4*U, sweep_steps)\n",
    "    for i_d, delta in enumerate(delta_space):\n",
    "        seq = prep_pulse_seq(delta)\n",
    "        sim = Simulation(seq)\n",
    "        rho = sim.run().get_final_state().proj()\n",
    "        outcomes, unitary_ids = calculate_classical_shadow(rho, shadow_size)\n",
    "        snapshots = [snapshot_state(outcomes[ns], unitary_ids[ns]) for ns in range(shadow_size)]\n",
    "        meds = [_median_of_means(obs, snapshots, K) for obs in observables]\n",
    "        stagger = sum([(-1)**k * meds[k] for k in range(num_qubits)]) / num_qubits\n",
    "        results[i_d] = stagger\n",
    "    return results, delta_space / U"
   ]
  },
  {
   "cell_type": "code",
   "execution_count": 15,
   "id": "88175710",
   "metadata": {},
   "outputs": [],
   "source": [
    "def sweep_ideal_stagger(sweep_steps):\n",
    "    observables = [qutip.tensor([qutip.sigmaz() if i == k else qutip.qeye(2) \n",
    "                                 for i in range(num_qubits)])\n",
    "                   for k in range(num_qubits)]\n",
    "    stag_op = sum([(-1)**k * observables[k] for k in range(num_qubits)]) / num_qubits\n",
    "    shadow_size, K = compute_shadow_size(0.1, 0.5, observables)\n",
    "    results = np.zeros(sweep_steps)\n",
    "    delta_space = np.linspace(-2*U, 4*U, sweep_steps)\n",
    "    for i_d, delta in enumerate(delta_space):\n",
    "        seq = prep_pulse_seq(delta)\n",
    "        sim = Simulation(seq)\n",
    "        print(sim.run().expect([stag_op])[0][-1])\n",
    "        results[i_d] = sim.run().expect([stag_op])[0][-1]\n",
    "    return results, delta_space / U"
   ]
  },
  {
   "cell_type": "code",
   "execution_count": 16,
   "id": "75241fed",
   "metadata": {},
   "outputs": [],
   "source": [
    "def sweep_fidelity(sweep_steps):\n",
    "    proj = qutip.tensor([qutip.basis(2, i % 2) for i in range(num_qubits)]).proj()\n",
    "    shadow_size, K = compute_shadow_size(0.1, 0.5, [proj])\n",
    "    results = np.zeros(sweep_steps)\n",
    "    delta_space = np.linspace(-2*U, 4*U, sweep_steps)\n",
    "    for i_d, delta in enumerate(delta_space):\n",
    "        seq = prep_pulse_seq(delta)\n",
    "        sim = Simulation(seq)\n",
    "        rho = sim.run().get_final_state().proj()\n",
    "        outcomes, unitary_ids = calculate_classical_shadow(rho, shadow_size)\n",
    "        snapshots = [snapshot_state(outcomes[ns], unitary_ids[ns]) for ns in range(shadow_size)]\n",
    "        med = _median_of_means(proj, snapshots, K)\n",
    "        results[i_d] = med\n",
    "    return results, delta_space / U"
   ]
  },
  {
   "cell_type": "code",
   "execution_count": 17,
   "id": "6bef32c9",
   "metadata": {},
   "outputs": [],
   "source": [
    "num_qubits = 9"
   ]
  },
  {
   "cell_type": "code",
   "execution_count": 90,
   "id": "240c2637",
   "metadata": {},
   "outputs": [],
   "source": [
    "sweep_results, delta = sweep_stagger(5)"
   ]
  },
  {
   "cell_type": "code",
   "execution_count": 92,
   "id": "3d66bbdd",
   "metadata": {},
   "outputs": [
    {
     "name": "stdout",
     "output_type": "stream",
     "text": [
      "-0.11121019885939394\n",
      "-0.10651658432536479\n",
      "0.920682964104812\n",
      "0.5437370788057436\n",
      "-0.09433848989996448\n"
     ]
    }
   ],
   "source": [
    "sweep_ideal, delta = sweep_ideal_stagger(5)"
   ]
  },
  {
   "cell_type": "code",
   "execution_count": 93,
   "id": "9ce6b5a3",
   "metadata": {},
   "outputs": [
    {
     "data": {
      "image/png": "[encoded data removed]",
      "text/plain": [
       "<Figure size 720x432 with 1 Axes>"
      ]
     },
     "metadata": {
      "needs_background": "light"
     },
     "output_type": "display_data"
    }
   ],
   "source": [
    "plt.figure(figsize=(10,6))\n",
    "fig = plt.plot(delta, sweep_results)\n",
    "plt.plot(delta, sweep_ideal)\n",
    "plt.legend([\"Shadow estimation\", \"Exact results\"])\n",
    "plt.xlabel(r\"$\\delta_f / U$\")\n",
    "plt.ylabel(r\"$<stagger>$\")\n",
    "\n",
    "plt.show()"
   ]
  },
  {
   "cell_type": "code",
   "execution_count": 69,
   "id": "d490611d",
   "metadata": {},
   "outputs": [],
   "source": [
    "def sweep_ideal_fidelity(sweep_steps):\n",
    "    observables = [qutip.tensor([qutip.basis(2, i % 2) for i in range(num_qubits)]).proj()]\n",
    "    shadow_size, K = compute_shadow_size(0.1, 0.5, observables)\n",
    "    results = np.zeros(sweep_steps)\n",
    "    delta_space = np.linspace(-2*U, 4*U, sweep_steps)\n",
    "    for i_d, delta in enumerate(delta_space):\n",
    "        seq = prep_pulse_seq(delta)\n",
    "        sim = Simulation(seq)\n",
    "        print(sim.run().expect(observables)[0][-1])\n",
    "        results[i_d] = sim.run().expect(observables)[0][-1]\n",
    "    return results, delta_space / U"
   ]
  },
  {
   "cell_type": "code",
   "execution_count": 125,
   "id": "906a4d82",
   "metadata": {
    "scrolled": true
   },
   "outputs": [],
   "source": [
    "sweep_fed, delta = sweep_fidelity(7)"
   ]
  },
  {
   "cell_type": "code",
   "execution_count": 126,
   "id": "e1aade51",
   "metadata": {},
   "outputs": [
    {
     "name": "stdout",
     "output_type": "stream",
     "text": [
      "5.310993463321258e-16\n",
      "3.3669104515187585e-13\n",
      "0.0012935833160251891\n",
      "0.9080366496177135\n",
      "0.8895574552919367\n",
      "0.0003559056719803517\n",
      "3.732458862067818e-07\n"
     ]
    }
   ],
   "source": [
    "sweep_id_fed, delta = sweep_ideal_fidelity(7)"
   ]
  },
  {
   "cell_type": "code",
   "execution_count": 127,
   "id": "7ad01acd",
   "metadata": {},
   "outputs": [
    {
     "data": {
      "image/png": "[encoded data removed]",
      "text/plain": [
       "<Figure size 720x432 with 1 Axes>"
      ]
     },
     "metadata": {
      "needs_background": "light"
     },
     "output_type": "display_data"
    }
   ],
   "source": [
    "plt.figure(figsize=(10,6))\n",
    "fig = plt.plot(delta, sweep_fed)\n",
    "plt.plot(delta, sweep_id_fed)\n",
    "plt.legend([\"Shadow estimation\", \"Exact results\"])\n",
    "plt.xlabel(r\"$\\delta_f / U$\")\n",
    "plt.ylabel(r\"$F(\\rho, \\rho')$\")\n",
    "plt.show()"
   ]
  },
  {
   "cell_type": "code",
   "execution_count": 34,
   "id": "43d3cee0",
   "metadata": {
    "scrolled": true
   },
   "outputs": [
    {
     "data": {
      "image/png": "[encoded data removed]",
      "text/plain": [
       "<Figure size 173.326x173.326 with 1 Axes>"
      ]
     },
     "metadata": {
      "needs_background": "light"
     },
     "output_type": "display_data"
    }
   ],
   "source": [
    "# H2 Molecule : 8 qubits in Bravyi-Kitaev mapping of the Hamiltonian\n",
    "R_interatomic = Chadoq2.rydberg_blockade_radius(U)\n",
    "reg = Register.rectangle(2, 2, R_interatomic)\n",
    "reg.draw()\n",
    "dur = 500"
   ]
  },
  {
   "cell_type": "code",
   "execution_count": 35,
   "id": "a41d4489",
   "metadata": {},
   "outputs": [
    {
     "data": {
      "text/plain": [
       "Pulse(amp=ConstantWaveform(1000 ns, 1 rad/µs), detuning=ConstantWaveform(1000 ns, 0 rad/µs), phase=0, post_phase_shift=0)"
      ]
     },
     "execution_count": 35,
     "metadata": {},
     "output_type": "execute_result"
    }
   ],
   "source": [
    "Pulse.ConstantDetuning(ConstantWaveform(1000, 1), 0, 0)"
   ]
  },
  {
   "cell_type": "code",
   "execution_count": 44,
   "id": "081ea834",
   "metadata": {},
   "outputs": [],
   "source": [
    "# rabi freqs don't need normalization by hbar\n",
    "# lists of same sizes\n",
    "def prepare_pauli_pulse(paulis, qids, coef):\n",
    "    for i, pauli in enumerate(paulis):\n",
    "        if pauli == \"X\":\n",
    "            pulse = Pulse.ConstantDetuning(ConstantWaveform(500, coef), 0, 0)\n",
    "        if pauli == \"Y\":\n",
    "            pulse = Pulse.ConstantDetuning(ConstantWaveform(500, coef), 0., np.pi / 2)\n",
    "        if pauli == \"Z\":\n",
    "            pulse = Pulse.ConstantAmplitude(0, ConstantWaveform(500, coef), 0)\n",
    "        seq.target(qids[i], \"ram\")\n",
    "        seq.add(pulse, \"ram\")"
   ]
  },
  {
   "cell_type": "code",
   "execution_count": 45,
   "id": "2ad231e3",
   "metadata": {},
   "outputs": [
    {
     "data": {
      "image/png": "[encoded data removed]",
      "text/plain": [
       "<Figure size 1440x324 with 3 Axes>"
      ]
     },
     "metadata": {},
     "output_type": "display_data"
    }
   ],
   "source": [
    "seq = Sequence(reg, Chadoq2)\n",
    "seq.declare_channel(\"ram\", \"raman_local\")\n",
    "seq.draw()"
   ]
  },
  {
   "cell_type": "code",
   "execution_count": 38,
   "id": "7d7e27a8",
   "metadata": {},
   "outputs": [
    {
     "data": {
      "image/png": "[encoded data removed]",
      "text/plain": [
       "<Figure size 1440x324 with 3 Axes>"
      ]
     },
     "metadata": {},
     "output_type": "display_data"
    }
   ],
   "source": [
    "prepare_pauli_pulse([\"Z\"], [0], 0.1712)\n",
    "prepare_pauli_pulse([\"Z\"], [1], 0.1686)\n",
    "prepare_pauli_pulse([\"Z\"], [2], -0.2227)\n",
    "prepare_pauli_pulse([\"Z\", \"Z\"], [0,1], 0.1712)\n",
    "prepare_pauli_pulse([\"Z\", \"Z\"], [0,2], 0.1205)\n",
    "prepare_pauli_pulse([\"Z\", \"Z\"], [1,3], 0.1743)\n",
    "prepare_pauli_pulse([\"X\", \"Z\", \"X\"], [0,1,2], 0.0453)\n",
    "prepare_pauli_pulse([\"Y\", \"Z\", \"Y\"], [0,1,2], 0.0453)\n",
    "prepare_pauli_pulse([\"Z\", \"Z\", \"Z\"], [0, 1, 2], 0.1658)\n",
    "prepare_pauli_pulse([\"Z\", \"Z\", \"Z\"], [0,2,3], 0.1205)\n",
    "prepare_pauli_pulse([\"Z\", \"Z\", \"Z\"], [1,2,3], -0.2227)\n",
    "prepare_pauli_pulse([\"X\", \"Z\", \"X\", \"Z\"], [0,1,2,3], 0.0453)\n",
    "prepare_pauli_pulse([\"Y\",\"Z\",\"Y\",\"Z\"], [0,1,2,3], 0.0453)\n",
    "prepare_pauli_pulse([\"Z\",\"Z\",\"Z\",\"Z\"], [0,1,2,3], 0.1658)\n",
    "seq.draw()"
   ]
  },
  {
   "cell_type": "code",
   "execution_count": 39,
   "id": "2c42cfc6",
   "metadata": {},
   "outputs": [],
   "source": [
    "sigmas = [qutip.sigmax(), qutip.sigmay(), qutip.sigmaz()]\n",
    "def pau(pids, qids):\n",
    "    tensorlist = []\n",
    "    j = 0\n",
    "    for i in range(4):\n",
    "        if i in qids:\n",
    "            tensorlist.append(sigmas[pids[j]])\n",
    "            j += 1\n",
    "        else:\n",
    "            tensorlist.append(qutip.qeye(2))\n",
    "    return qutip.tensor(tensorlist)"
   ]
  },
  {
   "cell_type": "code",
   "execution_count": 40,
   "id": "4a81e2e0",
   "metadata": {},
   "outputs": [],
   "source": [
    "ham = (-0.81261 * pau([], []) + 0.171201 * pau([2], [0]) +  0.16862325 * pau([2], [1]) - 0.2227965 * pau([2], [2]) + \n",
    "    0.171201 * pau([2,2], [0,1]) + 0.12054625 * pau([2,2], [0,2]) + 0.17434925 * pau([2,2], [1,3]) +\n",
    "       0.04532175 * pau([0,2,0], [0,1,2]) + 0.04532175 * pau([1,2,1], [0,1,2]) + 0.165868 * pau([2,2,2], [0,1,2]) +\n",
    "       0.12054625 * pau([2,2,2], [0,2,3]) - 0.2227965 * pau([2,2,2], [1,2,3]) +  0.04532175 * pau([0,2,0,2], [0,1,2,3]) +\n",
    "       0.04532175 * pau([1,2,1,2], [0,1,2,3]) + 0.165868 * pau([2,2,2,2], [0,1,2,3])\n",
    "      )"
   ]
  },
  {
   "cell_type": "code",
   "execution_count": 43,
   "id": "c1fdd24a",
   "metadata": {},
   "outputs": [
    {
     "name": "stdout",
     "output_type": "stream",
     "text": [
      "[ 0.          0.          0.         ... -0.00175664 -0.00175664\n",
      " -0.00175664]\n"
     ]
    }
   ],
   "source": [
    "ground = qutip.tensor([qutip.basis(2,1) for _ in range(4)])\n",
    "f_state = qutip.sesolve(ham, ground, tlist = np.linspace(0, 100, 1000)).states"
   ]
  },
  {
   "cell_type": "code",
   "execution_count": 229,
   "id": "0d56e4a0",
   "metadata": {},
   "outputs": [
    {
     "data": {
      "text/plain": [
       "[<matplotlib.lines.Line2D at 0x7fa8c2843160>]"
      ]
     },
     "execution_count": 229,
     "metadata": {},
     "output_type": "execute_result"
    },
    {
     "data": {
      "image/png": "[encoded data removed]",
      "text/plain": [
       "<Figure size 432x288 with 1 Axes>"
      ]
     },
     "metadata": {
      "needs_background": "light"
     },
     "output_type": "display_data"
    }
   ],
   "source": [
    "sim = Simulation(seq)\n",
    "plt.plot(sim.run().expect([ham])[0])"
   ]
  },
  {
   "cell_type": "code",
   "execution_count": 159,
   "id": "ab55c8ff",
   "metadata": {},
   "outputs": [],
   "source": [
    "def hits(p, o, end=-1):\n",
    "    \"\"\"Determines if measurement p hits observable o\n",
    "    Args:\n",
    "        p (str): Pauli string in str format (ex \"1XYZ\"), measurement\n",
    "        o (str): same as above, observable\n",
    "        start (int): index after which to check if p hits o\n",
    "    \"\"\"\n",
    "    if end != -1:\n",
    "        o = o[:end]\n",
    "    for i, x in enumerate(o):\n",
    "        if not(x == p[i] or x == \"1\"):\n",
    "            return False\n",
    "    return True"
   ]
  },
  {
   "cell_type": "code",
   "execution_count": 79,
   "id": "e4e2a1d5",
   "metadata": {},
   "outputs": [],
   "source": [
    "def weight(o, start=0):\n",
    "    o_k = o[start:]\n",
    "    return len(o_k) - o_k.count(\"1\")"
   ]
  },
  {
   "cell_type": "code",
   "execution_count": 168,
   "id": "89ed4c06",
   "metadata": {},
   "outputs": [
    {
     "data": {
      "text/plain": [
       "0"
      ]
     },
     "execution_count": 168,
     "metadata": {},
     "output_type": "execute_result"
    }
   ],
   "source": [
    "weight(\"XY11\", start=2)"
   ]
  },
  {
   "cell_type": "code",
   "execution_count": 87,
   "id": "c6896122",
   "metadata": {},
   "outputs": [
    {
     "data": {
      "text/plain": [
       "'abc'"
      ]
     },
     "execution_count": 87,
     "metadata": {},
     "output_type": "execute_result"
    }
   ],
   "source": [
    "\"abc\"[:3]"
   ]
  },
  {
   "cell_type": "code",
   "execution_count": 104,
   "id": "c6f367b5",
   "metadata": {},
   "outputs": [
    {
     "data": {
      "text/plain": [
       "16"
      ]
     },
     "execution_count": 104,
     "metadata": {},
     "output_type": "execute_result"
    }
   ],
   "source": [
    "2**4"
   ]
  },
  {
   "cell_type": "code",
   "execution_count": 221,
   "id": "8cca38d8",
   "metadata": {},
   "outputs": [],
   "source": [
    "def cond_conf(epsilon, M, o, P_sharp):\n",
    "    \"\"\"Returns the conditionned expectation value of the cost function depending\n",
    "    on already chosen Paulis in P_sharp\n",
    "    \n",
    "    Args:\n",
    "        epsilon (float): desired accuracy on observable expectation values\n",
    "        M (int): measurement budget, so number of measurements as Pauli strings\n",
    "        o (list[str]): list of Pauli strings to be measured\n",
    "        P_sharp (list[str]): list of already chosen Paulis\n",
    "    \"\"\"\n",
    "    nu = 1 - np.exp(-epsilon**2 / 2)\n",
    "    L = len(o)\n",
    "    m = len(P_sharp) - 1 # index of last chosen Pauli string\n",
    "    k = len(P_sharp[-1]) - 1 # index of last chosen Pauli matrix in mth Pauli string\n",
    "    result = 0\n",
    "    for l in range(0, L):\n",
    "        cache = np.exp((-epsilon**2 / 2) * sum([int(hits(P_sharp[m_prime], o[l])) for m_prime in range(m)]))\n",
    "        cache *= (1 - nu * 3**(-weight(o[l], start=k+1)) * int(hits(P_sharp[m], o[l], end=k+1)))\n",
    "        cache *= (1 - nu * 3**(-weight(o[l])))**(M-m)\n",
    "        result += cache\n",
    "    return result"
   ]
  },
  {
   "cell_type": "code",
   "execution_count": 227,
   "id": "fd3df39f",
   "metadata": {},
   "outputs": [
    {
     "data": {
      "text/plain": [
       "1.0274131640590944"
      ]
     },
     "execution_count": 227,
     "metadata": {},
     "output_type": "execute_result"
    }
   ],
   "source": [
    "o = [\"XZ\", \"YZ\"]\n",
    "P_sharp = [\"XZ\"]\n",
    "cond_conf(1, 10, o, P_sharp)"
   ]
  },
  {
   "cell_type": "code",
   "execution_count": 236,
   "id": "a7e8f73b",
   "metadata": {},
   "outputs": [],
   "source": [
    "def derandomization(M, epsilon, o):\n",
    "    \"\"\"Derandomization algorithm returning best Pauli indices according to a gluttonous algorithm\n",
    "    that aims at minimizing the cost function above.\n",
    "    \n",
    "    Args:\n",
    "        M (int): number of measurements\n",
    "        n (int): number of qubits (size of Pauli strings)\n",
    "        epsilon (float): desired accuracy on observable expectation values\n",
    "        o (list[str]): list of Pauli strings to be measured\n",
    "    \"\"\"\n",
    "    n = len(o[0])\n",
    "    P_sharp = []\n",
    "    for m in range(M):\n",
    "        P_sharp.append(\"\")\n",
    "        for k in range(n):\n",
    "            P_sharp_m = P_sharp[m]\n",
    "            P_sharp[m] += \"X\"\n",
    "            valmin = cond_conf(epsilon, M, o, P_sharp)\n",
    "            argmin = \"X\"\n",
    "            for W in [\"Y\", \"Z\"]:\n",
    "                P_sharp[m] = P_sharp_m + W\n",
    "                val_W = cond_conf(epsilon, M, o, P_sharp)\n",
    "                if val_W < valmin:\n",
    "                    valmin = val_W\n",
    "                    argmin = W\n",
    "            P_sharp[m] = P_sharp_m + argmin\n",
    "    return P_sharp"
   ]
  },
  {
   "cell_type": "code",
   "execution_count": 247,
   "id": "f26cc24f",
   "metadata": {},
   "outputs": [
    {
     "data": {
      "text/plain": [
       "['ZXZ', 'ZXZ']"
      ]
     },
     "execution_count": 247,
     "metadata": {},
     "output_type": "execute_result"
    }
   ],
   "source": [
    "derandomization(2, 1, [\"Z11\", \"11Z\"])"
   ]
  }
 ],
 "metadata": {
  "kernelspec": {
   "display_name": "Python 3",
   "language": "python",
   "name": "python3"
  },
  "language_info": {
   "codemirror_mode": {
    "name": "ipython",
    "version": 3
   },
   "file_extension": ".py",
   "mimetype": "text/x-python",
   "name": "python",
   "nbconvert_exporter": "python",
   "pygments_lexer": "ipython3",
   "version": "3.8.8"
  }
 },
 "nbformat": 4,
 "nbformat_minor": 5
}
